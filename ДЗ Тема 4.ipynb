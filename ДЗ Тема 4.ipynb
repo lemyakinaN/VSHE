{
 "cells": [
  {
   "cell_type": "code",
   "execution_count": 38,
   "id": "d3df9063",
   "metadata": {},
   "outputs": [],
   "source": [
    "import json\n",
    "\n",
    "\n",
    "\n"
   ]
  },
  {
   "cell_type": "code",
   "execution_count": 30,
   "id": "6b92da54",
   "metadata": {},
   "outputs": [],
   "source": []
  },
  {
   "cell_type": "code",
   "execution_count": 37,
   "id": "6a7aee2f",
   "metadata": {},
   "outputs": [
    {
     "name": "stdout",
     "output_type": "stream",
     "text": [
      "{'user_id': 'category', '1840e0b9d4': 'Продукты', '4e4f90fcfb': 'Электроника', 'afea8d72fc': 'Электроника', '373a6055fe': 'Бытовая техника', '9b2ab046f3': 'Электроника', '9f39d307c3': 'Электроника', '44edeffc91': 'Продукты', '704474fa2d': 'Продукты', '1de31be403': 'Бытовая техника', 'b71f36a5e4': 'Продукты'}\n"
     ]
    }
   ],
   "source": [
    "i = 0\n",
    "dic = {}\n",
    "\n",
    "with open('C:/Users/ALEXi5/Downloads/purchase_log.txt', 'r', encoding = 'utf-8') as f:\n",
    "    for line in f:\n",
    "        line = line.strip()\n",
    "        \n",
    "        \n",
    "        dict_ = json.loads(line)\n",
    "        key = dict_[\"user_id\"]\n",
    "        value = dict_[\"category\"]\n",
    "        dic[key] = value\n",
    "                  \n",
    "        i = i+1\n",
    "        if i > 10:\n",
    "            break\n",
    "        \n",
    "print(dic)    "
   ]
  },
  {
   "cell_type": "code",
   "execution_count": null,
   "id": "23863b80",
   "metadata": {},
   "outputs": [],
   "source": []
  }
 ],
 "metadata": {
  "kernelspec": {
   "display_name": "Python 3 (ipykernel)",
   "language": "python",
   "name": "python3"
  },
  "language_info": {
   "codemirror_mode": {
    "name": "ipython",
    "version": 3
   },
   "file_extension": ".py",
   "mimetype": "text/x-python",
   "name": "python",
   "nbconvert_exporter": "python",
   "pygments_lexer": "ipython3",
   "version": "3.11.4"
  }
 },
 "nbformat": 4,
 "nbformat_minor": 5
}
