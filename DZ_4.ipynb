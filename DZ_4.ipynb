{
 "cells": [
  {
   "cell_type": "markdown",
   "id": "4d789ece",
   "metadata": {},
   "source": [
    "**Задание № 1.**\n",
    "\n",
    "Напишите код на Python для решения следующей задачи.\n",
    "Реализуйте функцию `sum_distance(from, to)`, которая суммирует все числа от значения from до величины to включительно.\n",
    "\n",
    "**Примечание**. Если пользователь задаст первое число, которое окажется больше второго, просто поменяйте их местами.\n"
   ]
  },
  {
   "cell_type": "code",
   "execution_count": 2,
   "id": "455f2fc6",
   "metadata": {},
   "outputs": [],
   "source": [
    "def sum_distance(from_val, to_val):\n",
    "\n",
    "    if from_val > to_val:\n",
    "\n",
    "        from_val, to_val = to_val, from_val\n",
    "\n",
    "    numbers = range(from_val, to_val+1)\n",
    "\n",
    "    return sum(numbers)"
   ]
  },
  {
   "cell_type": "code",
   "execution_count": 4,
   "id": "740222af",
   "metadata": {},
   "outputs": [
    {
     "name": "stdout",
     "output_type": "stream",
     "text": [
      "35\n",
      "35\n",
      "25\n",
      "25\n"
     ]
    }
   ],
   "source": [
    "print(sum_distance(2, 8)) \n",
    "\n",
    "print(sum_distance(8, 2)) \n",
    "\n",
    "print(sum_distance(7, 3)) \n",
    "\n",
    "print(sum_distance(3, 7))"
   ]
  },
  {
   "cell_type": "markdown",
   "id": "22f22565",
   "metadata": {},
   "source": [
    "**Задание 2.**\n",
    "\n",
    "Напишите код на Python для решения следующей задачи.\n",
    "Реализуйте функцию trim_and_repeat(), которая принимает три параметра:\n",
    "\n",
    "- строку;\n",
    "- offset — число символов, на которое нужно обрезать строку слева;\n",
    "- repetitions — сколько раз нужно повторить строку перед возвратом получившейся строки.\n",
    "\n",
    "Число символов для среза по умолчанию равно 0, а количество повторений — 1.\n",
    "\n",
    "Функция должна возвращать полученную строку.\n"
   ]
  },
  {
   "cell_type": "code",
   "execution_count": 10,
   "id": "e4add644",
   "metadata": {},
   "outputs": [],
   "source": [
    "def trim_and_repeat(text, offset = 0, repetitions = 1):\n",
    "    strings = text[offset:]\n",
    "    rep_strings = strings * repetitions\n",
    "    return rep_strings"
   ]
  },
  {
   "cell_type": "code",
   "execution_count": 11,
   "id": "10050898",
   "metadata": {},
   "outputs": [
    {
     "name": "stdout",
     "output_type": "stream",
     "text": [
      "lo Worldlo World\n",
      "hello Worldhello Worldhello World\n",
      "hello World\n"
     ]
    }
   ],
   "source": [
    "text = 'hello World'\n",
    "print(trim_and_repeat(text, offset=3, repetitions=2)) \n",
    "print(trim_and_repeat(text, repetitions=3)) \n",
    "print(trim_and_repeat(text)) "
   ]
  },
  {
   "cell_type": "markdown",
   "id": "4d4a8039",
   "metadata": {},
   "source": [
    "Можно еще так "
   ]
  },
  {
   "cell_type": "code",
   "execution_count": 13,
   "id": "f999c9eb",
   "metadata": {},
   "outputs": [],
   "source": [
    "def trim_and_repeat(text, offset = 0, repetitions = 1):\n",
    "    return f'{text[offset:] * repetitions}'"
   ]
  },
  {
   "cell_type": "code",
   "execution_count": 17,
   "id": "344d3543",
   "metadata": {},
   "outputs": [
    {
     "name": "stdout",
     "output_type": "stream",
     "text": [
      "o Worldo Worldo Worldo Worldo Worldo World\n",
      "hello Worldhello Worldhello Worldhello World\n"
     ]
    }
   ],
   "source": [
    "text = 'hello World'\n",
    "print(trim_and_repeat(text, offset=4, repetitions=6)) \n",
    "print(trim_and_repeat(text, repetitions=4)) \n"
   ]
  },
  {
   "cell_type": "code",
   "execution_count": null,
   "id": "79bd7640",
   "metadata": {},
   "outputs": [],
   "source": []
  }
 ],
 "metadata": {
  "kernelspec": {
   "display_name": "Python 3 (ipykernel)",
   "language": "python",
   "name": "python3"
  },
  "language_info": {
   "codemirror_mode": {
    "name": "ipython",
    "version": 3
   },
   "file_extension": ".py",
   "mimetype": "text/x-python",
   "name": "python",
   "nbconvert_exporter": "python",
   "pygments_lexer": "ipython3",
   "version": "3.11.4"
  }
 },
 "nbformat": 4,
 "nbformat_minor": 5
}
