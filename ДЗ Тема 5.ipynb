{
 "cells": [
  {
   "cell_type": "code",
   "execution_count": 7,
   "id": "360a8b93",
   "metadata": {},
   "outputs": [
    {
     "data": {
      "text/plain": [
       "datetime.datetime(1977, 8, 18, 0, 0)"
      ]
     },
     "execution_count": 7,
     "metadata": {},
     "output_type": "execute_result"
    }
   ],
   "source": [
    "from datetime import timedelta\n",
    "from datetime import datetime\n",
    "TMT = datetime.strptime(\"Wednesday, October 2, 2002\", \"%A, %B %d, %Y\")\n",
    "TMT\n",
    "TG = datetime.strptime('Friday, 11.10.13', '%A, %d.%m.%y')\n",
    "TG\n",
    "DN = datetime.strptime('Thursday, 18 August 1977', '%A, %d %B %Y')\n",
    "\n",
    "\n",
    "DN"
   ]
  },
  {
   "cell_type": "code",
   "execution_count": null,
   "id": "d32420f0",
   "metadata": {},
   "outputs": [],
   "source": []
  },
  {
   "cell_type": "code",
   "execution_count": 8,
   "id": "5b1be62b",
   "metadata": {},
   "outputs": [
    {
     "name": "stdout",
     "output_type": "stream",
     "text": [
      "['1993-05-03', '1993-05-04', '1993-05-05', '1993-05-06', '1993-05-07', '1993-05-08', '1993-05-09', '1993-05-10', '1993-05-11', '1993-05-12', '1993-05-13', '1993-05-14', '1993-05-15', '1993-05-16', '1993-05-17', '1993-05-18', '1993-05-19', '1993-05-20', '1993-05-21', '1993-05-22', '1993-05-23', '1993-05-24', '1993-05-25', '1993-05-26', '1993-05-27', '1993-05-28', '1993-05-29', '1993-05-30', '1993-05-31']\n"
     ]
    }
   ],
   "source": [
    "start_date = '1993-05-03'\n",
    "end_date = '1993-05-31'\n",
    "def date_range(start_date, end_date):\n",
    "    list_date = []\n",
    "    try:\n",
    "        start_date1 = datetime.strptime(start_date, '%Y-%m-%d')\n",
    "        end_date1 = datetime.strptime(end_date, '%Y-%m-%d')\n",
    "        if start_date1 > end_date1:\n",
    "            print(list_date)\n",
    "        else:\n",
    "            while start_date1 <= end_date1:\n",
    "                list_date.append(start_date1.strftime('%Y-%m-%d'))\n",
    "                start_date1 += timedelta(days=1)\n",
    "        print(list_date)\n",
    "    except:\n",
    "        print([])\n",
    "        \n",
    "date_range(start_date, end_date)"
   ]
  },
  {
   "cell_type": "code",
   "execution_count": null,
   "id": "7a7259cb",
   "metadata": {},
   "outputs": [],
   "source": []
  }
 ],
 "metadata": {
  "kernelspec": {
   "display_name": "Python 3 (ipykernel)",
   "language": "python",
   "name": "python3"
  },
  "language_info": {
   "codemirror_mode": {
    "name": "ipython",
    "version": 3
   },
   "file_extension": ".py",
   "mimetype": "text/x-python",
   "name": "python",
   "nbconvert_exporter": "python",
   "pygments_lexer": "ipython3",
   "version": "3.11.4"
  }
 },
 "nbformat": 4,
 "nbformat_minor": 5
}
