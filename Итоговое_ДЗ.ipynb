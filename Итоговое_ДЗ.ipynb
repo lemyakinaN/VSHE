{
 "cells": [
  {
   "cell_type": "code",
   "execution_count": 35,
   "id": "a9bc53f1",
   "metadata": {},
   "outputs": [],
   "source": [
    "import zipfile # Модуль zipfile помогает в работе с zip файлами.\n",
    "import requests # библиотека для удобного формирования HTTP-запросов и получения ответов\n",
    "import os # модуль предоставляет доступ к файлам, каталогам и другим функциям операционной системы в коде Python\n",
    "\n"
   ]
  },
  {
   "cell_type": "code",
   "execution_count": 46,
   "id": "de2808fe",
   "metadata": {},
   "outputs": [],
   "source": [
    "class Prevention:\n",
    "    def into_it (self, api_key):\n",
    "        self.__API_KEY = api_key\n",
    "        self.__base_url = \"https://www.virustotal.com/api/v3\"\n",
    "        self.__base_headers = {\n",
    "            \"x-apikey\": api_key\n",
    "        }\n"
   ]
  },
  {
   "cell_type": "code",
   "execution_count": 47,
   "id": "9bccbd1a",
   "metadata": {},
   "outputs": [],
   "source": [
    "# функция по анализу zip файла\n",
    "\n",
    "\n",
    "def analis_zip_file(self, path_to_zip: str, pass_zip):\n",
    "        file_name_and_file = self.gain_zipfile(path_to_zip, pass_zip)\n",
    "\n",
    "        url_for_analize = self.gain_url_analis_file(file_name_and_file)\n",
    "\n",
    "        analis = self.gain_analis(url_for_analize)\n",
    "\n",
    "        text_result_analisis = self.gain_result_analis(analis)\n",
    "\n",
    "        sha256 = analis[\"meta\"][\"file_info\"][\"sha256\"]\n",
    "        behaviour_resume = self.gain_behaviour_resume(sha256)\n",
    "\n",
    "        text_behaviour_resume = self.gain_result_behaviour_resume(behaviour_resume)\n",
    "\n",
    "        return (text_result_analisis, text_behaviour_resume)"
   ]
  },
  {
   "cell_type": "code",
   "execution_count": 48,
   "id": "f7ae92e4",
   "metadata": {},
   "outputs": [],
   "source": [
    "def gain_zipfile(self, path_to_zip, pwd):\n",
    "        password = pwd.encode()\n",
    "\n",
    "        with zipfile.ZipFile(path_to_zip, 'r') as zip_ref:\n",
    "            files = zip_ref.namelist()\n",
    "            file_name = files[0]\n",
    "\n",
    "            with zip_ref.open(file_name, pwd=password) as file:\n",
    "                file_content = file.read()\n",
    "\n",
    "        return (file_name, file_content)\n",
    "            "
   ]
  },
  {
   "cell_type": "code",
   "execution_count": 49,
   "id": "d9cea90d",
   "metadata": {},
   "outputs": [],
   "source": [
    "def gain_url_analis_file(self, file_name_and_file):\n",
    "        url = self.__base_url + \"/files\"\n",
    "\n",
    "        files = {\"file\": (file_name_and_file[0], file_name_and_file[1])}\n",
    "\n",
    "        response = requests.post(url, headers=self.__base_headers, files=files)\n",
    "\n",
    "        json = response.json()\n",
    "        url = json[\"data\"][\"links\"][\"self\"]\n",
    "        return url"
   ]
  },
  {
   "cell_type": "code",
   "execution_count": 50,
   "id": "42cbb66e",
   "metadata": {},
   "outputs": [],
   "source": [
    "def gain_analis(self, url):\n",
    "        headers = self.__base_headers\n",
    "        headers[\"accept\"] = \"application/json\"\n",
    "\n",
    "        response = requests.get(url, headers=headers)\n",
    "        return response.json()"
   ]
  },
  {
   "cell_type": "code",
   "execution_count": 51,
   "id": "a65774ed",
   "metadata": {},
   "outputs": [],
   "source": [
    "def gain_behaviour_resume(self, sha256):\n",
    "        path = f\"/files/{sha256}/behaviour_resume\"\n",
    "        url = self.__base_url + path\n",
    "\n",
    "        headers = self.__base_headers\n",
    "        headers[\"accept\"] = \"application/json\"\n",
    "\n",
    "        response = requests.get(url, headers=headers)\n",
    "        return response.json()"
   ]
  },
  {
   "cell_type": "code",
   "execution_count": 52,
   "id": "803b3bdb",
   "metadata": {},
   "outputs": [],
   "source": [
    "def gain_result_analis(self, analisis):\n",
    "        reult_text = \"Результат анализа\\n\"\n",
    "        reult_text += \"Краткий итог\\n\"\n",
    "\n",
    "        dict_stats = analis[\"data\"][\"attributes\"][\"stats\"]\n",
    "        reult_text += \"STATS:\\n\"\n",
    "\n",
    "        for stat_name, stat_value in dict_stats.items():\n",
    "            reult_text += f\"{stat_name}: {stat_value}\\n\"\n",
    "            \n",
    "        dict_antivirus = analisis[\"data\"][\"attributes\"][\"results\"]\n",
    "\n",
    "        filter_dict = {k: v for k, v in dict_antivirus.items() if \"result\" in v and v[\"result\"]}\n",
    "        filter_undetected = {k: v for k, v in dict_antivirus.items() if v[\"result\"] is None}\n",
    "\n",
    "        reult_text += \"\\nАнтивирусы обнаружившие угрозу:\\n\"\n",
    "        for antivirus in filtered_dict.keys():\n",
    "            reult_text += f\"{antivirus}\\n\"\n",
    "\n",
    "        reult_text += \"\\nАнтивирусы не обнаружившие угрозу:\\n\"\n",
    "        for antivirus in filtered_undetected.keys():\n",
    "            reult_text += f\"{antivirus}\\n\"\n",
    "\n",
    "        reult_text += \"\\nКраткая информация об антивирусах\\n\"\n",
    "\n",
    "        for antivirus, info in dict_antivirus.items():\n",
    "            engine_version = info[\"engine_version\"]\n",
    "            category = info[\"category\"]\n",
    "            result = info[\"result\"]\n",
    "\n",
    "            reult_text += f\"\\nАнтивирус: {antivirus}, {engine_version}\\n\"\n",
    "            reult_text += f\"category: {category}\\n\"\n",
    "            reult_text += f\"result: {result}\\n\"\n",
    "\n",
    "        return result_text"
   ]
  },
  {
   "cell_type": "code",
   "execution_count": 53,
   "id": "7bd9e9ca",
   "metadata": {},
   "outputs": [],
   "source": [
    "def gain_result_behaviour_resume(self, json):\n",
    "        text_behaviour_resume = \"Общая сводка поведения\\n\"\n",
    "\n",
    "        behaviour_resume_data = json[\"data\"]\n",
    "\n",
    "        tags = behaviour_resume_data[\"tags\"]\n",
    "        text_behaviour_resume += \"Основные теги\\n\"\n",
    "        for tag in tags:\n",
    "            text_behaviour_resume += f\"{tag}\\n\"\n",
    "        \n",
    "       \n",
    "            text_behaviour_resume += f\"\\n{hostname}\\n\"\n",
    "            for resolved_ip in resolved_ips:\n",
    "                text_behaviour_resume += f\"{resolved_ip}\\n\"\n",
    "\n",
    "        return text_behaviour_resume\n"
   ]
  },
  
   
