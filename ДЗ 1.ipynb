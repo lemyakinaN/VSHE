word = 'testing'
dlina=len(word)
if dlina%2==0:
    print(word[int(dlina/2-1):int(dlina/2+1)])
else:
    print(word[int(dlina/2)])
